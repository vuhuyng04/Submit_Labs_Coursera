{
 "cells": [
  {
   "cell_type": "markdown",
   "metadata": {},
   "source": [
    "Title: Nguyễn Vũ Huy Learning Data Science"
   ]
  },
  {
   "cell_type": "markdown",
   "metadata": {},
   "source": [
    "Introduction:\n",
    "\n",
    "\n",
    "Name: Nguyen Vu Huy (Huy) \n",
    "\n",
    "\n",
    "DoB: 2004\n",
    "\n",
    "\n",
    "University: FPT University Cantho Campus\n",
    "\n",
    "\n",
    "Major: Artificial Intelligence\n",
    "\n",
    "\n",
    "Linkedin: https://www.linkedin.com/in/vuhuyng/"
   ]
  },
  {
   "cell_type": "markdown",
   "metadata": {},
   "source": [
    "Data Science Language:\n",
    "- Python\n",
    "- R\n",
    "- Java\n",
    "- Scala"
   ]
  },
  {
   "cell_type": "markdown",
   "metadata": {},
   "source": [
    "Data Science Libaries:\n",
    "- Numpy \n",
    "- Pandas, Matplotlib, Seaborn\n",
    "- Sklearn\n",
    "- Scapy\n",
    "- gglot\n",
    "- caret\n",
    "- ...\n",
    "\n",
    "*by Huy ^^"
   ]
  },
  {
   "cell_type": "markdown",
   "metadata": {},
   "source": [
    "Data Science Tool\n",
    "- Jupyternotebook\n",
    "- Vscode\n",
    "- Anaconda\n",
    "- JupyterLab\n",
    "- ..."
   ]
  },
  {
   "cell_type": "markdown",
   "metadata": {},
   "source": [
    "### Arithmetic Expression Examples\n",
    "Below are some basic examples of arithmetic expressions such as addition, subtraction, multiplication, and division.\n"
   ]
  },
  {
   "cell_type": "code",
   "execution_count": 1,
   "metadata": {},
   "outputs": [
    {
     "name": "stdout",
     "output_type": "stream",
     "text": [
      "Product: 15\n",
      "Sum: 8\n"
     ]
    }
   ],
   "source": [
    "# Multiply and add numbers\n",
    "a = 5\n",
    "b = 3\n",
    "product = a * b\n",
    "sum_result = a + b\n",
    "\n",
    "print(\"Product:\", product)\n",
    "print(\"Sum:\", sum_result)\n"
   ]
  },
  {
   "cell_type": "code",
   "execution_count": 2,
   "metadata": {},
   "outputs": [
    {
     "name": "stdout",
     "output_type": "stream",
     "text": [
      "Minutes: 150\n",
      "Hours: 2.5\n"
     ]
    }
   ],
   "source": [
    "# Convert minutes to hours\n",
    "minutes = 150\n",
    "hours = minutes / 60\n",
    "\n",
    "print(\"Minutes:\", minutes)\n",
    "print(\"Hours:\", hours)\n"
   ]
  },
  {
   "cell_type": "markdown",
   "metadata": {},
   "source": [
    "### Objectives\n",
    "- Understand how to write and run code cells\n",
    "- Learn to use markdown for documentation\n",
    "- Perform arithmetic operations in Python\n",
    "- Convert units of time using simple math\n"
   ]
  },
  {
   "cell_type": "markdown",
   "metadata": {},
   "source": [
    "**Author:** Nguyễn Vũ Huy\n"
   ]
  }
 ],
 "metadata": {
  "kernelspec": {
   "display_name": "Python 3",
   "language": "python",
   "name": "python3"
  },
  "language_info": {
   "codemirror_mode": {
    "name": "ipython",
    "version": 3
   },
   "file_extension": ".py",
   "mimetype": "text/x-python",
   "name": "python",
   "nbconvert_exporter": "python",
   "pygments_lexer": "ipython3",
   "version": "3.10.0"
  }
 },
 "nbformat": 4,
 "nbformat_minor": 2
}
